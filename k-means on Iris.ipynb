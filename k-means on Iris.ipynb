{
 "cells": [
  {
   "cell_type": "code",
   "execution_count": 28,
   "metadata": {},
   "outputs": [
    {
     "name": "stdout",
     "output_type": "stream",
     "text": [
      "Clusters' Centroids 4D coordinates\n",
      "----------------------------------\n",
      "\n",
      "[[ 5.9016129   2.7483871   4.39354839  1.43387097]\n",
      " [ 5.006       3.418       1.464       0.244     ]\n",
      " [ 6.85        3.07368421  5.74210526  2.07105263]]\n",
      "\n",
      "Labels for input data after clustering\n",
      "--------------------------------------\n",
      "\n",
      "[1 1 1 1 1 1 1 1 1 1 1 1 1 1 1 1 1 1 1 1 1 1 1 1 1 1 1 1 1 1 1 1 1 1 1 1 1\n",
      " 1 1 1 1 1 1 1 1 1 1 1 1 1 0 0 2 0 0 0 0 0 0 0 0 0 0 0 0 0 0 0 0 0 0 0 0 0\n",
      " 0 0 0 2 0 0 0 0 0 0 0 0 0 0 0 0 0 0 0 0 0 0 0 0 0 0 2 0 2 2 2 2 0 2 2 2 2\n",
      " 2 2 0 0 2 2 2 2 0 2 0 2 0 2 2 0 0 2 2 2 2 2 0 2 2 2 2 0 2 2 2 0 2 2 2 0 2\n",
      " 2 0]\n"
     ]
    },
    {
     "data": {
      "image/png": "[encoded data removed]",
      "text/plain": [
       "<matplotlib.figure.Figure at 0x1a1a03bd68>"
      ]
     },
     "metadata": {},
     "output_type": "display_data"
    }
   ],
   "source": [
    "import numpy as np\n",
    "import pandas as pd\n",
    "import matplotlib\n",
    "from sklearn.cluster import KMeans\n",
    "import matplotlib.pyplot as plt\n",
    "\n",
    "# matplotlib.use('TkAgg')\n",
    "\n",
    "%matplotlib inline\n",
    "\n",
    "\n",
    "# using all columns except  id and species\n",
    "data = pd.read_csv('../Envs/ML/Iris.csv', header=0, \n",
    "                   names = ['SepalLengthCm', 'SepalWidthCm', 'PetalLengthCm', 'PetalWidthCm'],\n",
    "                   usecols=[1, 2, 3, 4])\n",
    "\n",
    "data_2 = pd.DataFrame(data)\n",
    "\n",
    "k_means = KMeans(n_clusters=3).fit(data_2)\n",
    "\n",
    "print(\"Clusters' Centroids 4D coordinates\\n----------------------------------\\n\")\n",
    "print(k_means.cluster_centers_)\n",
    "print(\"\\nLabels for input data after clustering\\n--------------------------------------\\n\")\n",
    "print(k_means.labels_)\n",
    "\n",
    "cluster_1_x = []\n",
    "cluster_2_x = []\n",
    "cluster_3_x = []\n",
    "\n",
    "cluster_1_y = []\n",
    "cluster_2_y = []\n",
    "cluster_3_y = []\n",
    "\n",
    "# Distribute input data to their respective clusters according to their label\n",
    "\n",
    "for i in range(0, len(k_means.labels_)):\n",
    "\n",
    "    if k_means.labels_[i] == 0:\n",
    "        cluster_1_x.append(data_2['SepalLengthCm'][i])\n",
    "        cluster_1_y.append(data_2['SepalWidthCm'][i])\n",
    "    elif k_means.labels_[i] == 1:\n",
    "        cluster_2_x.append(data_2['SepalLengthCm'][i])\n",
    "        cluster_2_y.append(data_2['SepalWidthCm'][i])\n",
    "    else:\n",
    "        cluster_3_x.append(data_2['SepalLengthCm'][i])\n",
    "        cluster_3_y.append(data_2['SepalWidthCm'][i])\n",
    "\n",
    "# Convert the python lists to numpy arrays\n",
    "\n",
    "cluster_1_x = np.array(cluster_1_x)\n",
    "cluster_2_x = np.array(cluster_2_x)\n",
    "cluster_3_x = np.array(cluster_3_x)\n",
    "cluster_1_y = np.array(cluster_1_y)\n",
    "cluster_2_y = np.array(cluster_2_y)\n",
    "cluster_3_y = np.array(cluster_3_y)\n",
    "\n",
    "plt.scatter([cluster_1_x], [cluster_1_y], alpha=0.2, c='r')\n",
    "plt.scatter(k_means.cluster_centers_[0][0], k_means.cluster_centers_[0][1], marker='s', alpha=1, label='1ST centroid', c= 'r')\n",
    "\n",
    "plt.scatter([cluster_2_x], [cluster_2_y],alpha=0.2, c='g')\n",
    "plt.scatter(k_means.cluster_centers_[1][0], k_means.cluster_centers_[1][1], marker='s', alpha=1, label='2ND centroid', c= 'g')\n",
    "\n",
    "plt.scatter([cluster_3_x], [cluster_3_y],alpha=0.2, c='b')\n",
    "plt.scatter(k_means.cluster_centers_[2][0], k_means.cluster_centers_[2][1], marker='s', alpha=1, label='3RD centroid', c= 'b')\n",
    "\n",
    "plt.legend(frameon=False, labelspacing=1, title='Centroids', loc='upper right', fontsize='xx-small')\n",
    "\n",
    "plt.title('Iris Clustering')\n",
    "\n",
    "plt.xlabel('SepalLengthCm')\n",
    "plt.ylabel('SepalWidthCm')\n",
    "\n",
    "plt.show()\n"
   ]
  },
  {
   "cell_type": "code",
   "execution_count": null,
   "metadata": {
    "collapsed": true
   },
   "outputs": [],
   "source": []
  }
 ],
 "metadata": {
  "kernelspec": {
   "display_name": "Python 3",
   "language": "python",
   "name": "python3"
  },
  "language_info": {
   "codemirror_mode": {
    "name": "ipython",
    "version": 3
   },
   "file_extension": ".py",
   "mimetype": "text/x-python",
   "name": "python",
   "nbconvert_exporter": "python",
   "pygments_lexer": "ipython3",
   "version": "3.6.2"
  }
 },
 "nbformat": 4,
 "nbformat_minor": 2
}
